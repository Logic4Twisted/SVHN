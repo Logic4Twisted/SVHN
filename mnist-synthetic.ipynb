{
 "cells": [
  {
   "cell_type": "code",
   "execution_count": 1,
   "metadata": {
    "collapsed": false
   },
   "outputs": [
    {
     "name": "stdout",
     "output_type": "stream",
     "text": [
      "Extracting ./data/MNIST/train-images-idx3-ubyte.gz\n",
      "Extracting ./data/MNIST/train-labels-idx1-ubyte.gz\n",
      "Extracting ./data/MNIST/t10k-images-idx3-ubyte.gz\n",
      "Extracting ./data/MNIST/t10k-labels-idx1-ubyte.gz\n"
     ]
    }
   ],
   "source": [
    "from __future__ import absolute_import\n",
    "from __future__ import division\n",
    "from __future__ import print_function\n",
    "\n",
    "import argparse\n",
    "\n",
    "# Import data\n",
    "from tensorflow.examples.tutorials.mnist import input_data\n",
    "\n",
    "import tensorflow as tf\n",
    "\n",
    "FLAGS = None\n",
    "\n",
    "mnist = input_data.read_data_sets('./data/MNIST', one_hot=True)"
   ]
  },
  {
   "cell_type": "code",
   "execution_count": 2,
   "metadata": {
    "collapsed": false
   },
   "outputs": [
    {
     "name": "stderr",
     "output_type": "stream",
     "text": [
      "//anaconda/envs/tensorflow/lib/python2.7/site-packages/matplotlib/font_manager.py:273: UserWarning: Matplotlib is building the font cache using fc-list. This may take a moment.\n",
      "  warnings.warn('Matplotlib is building the font cache using fc-list. This may take a moment.')\n"
     ]
    },
    {
     "data": {
      "image/png": "[encoded data removed]",
      "text/plain": [
       "<matplotlib.figure.Figure at 0x112861450>"
      ]
     },
     "metadata": {},
     "output_type": "display_data"
    }
   ],
   "source": [
    "import matplotlib.pyplot as plt\n",
    "import numpy as np\n",
    "\n",
    "images, labels = mnist.train.next_batch(5)\n",
    "plt.imshow(np.reshape(images[2], (28, 28)), interpolation='nearest')\n",
    "plt.show()\n"
   ]
  },
  {
   "cell_type": "code",
   "execution_count": 3,
   "metadata": {
    "collapsed": false
   },
   "outputs": [],
   "source": [
    "import random\n",
    "import math\n",
    "from scipy import ndimage, misc\n",
    "\n",
    "digits = 5\n",
    "hight = 28\n",
    "width = 56\n",
    "pixel_depth = 255.0\n",
    "\n",
    "blank = np.zeros((28, 28))\n",
    "blank_label = np.zeros((1, 11))\n",
    "blank_label[0][10] = 1\n",
    "blank_label = blank_label.flatten()\n",
    "\n",
    "\n",
    "def concat_images(images):\n",
    "    if images.shape[0] == 1:\n",
    "        return np.reshape(images, (28, 28))\n",
    "    return np.concatenate((np.reshape(images[0], (28,28)), concat_images(images[1:])), axis = 1)\n",
    "\n",
    "def concat_labels(labels):\n",
    "    if labels.shape[0] == 1:\n",
    "        return labels\n",
    "    return np.concatenate((labels[0], concat_labels(labels[1:])), axis = 1)\n",
    "\n",
    "def decode_labels(labels):\n",
    "    result = 0\n",
    "    for i in range(labels.shape[0]):\n",
    "        result *= 10\n",
    "        result += np.ndarray.argmax(labels[i], axis = 0)\n",
    "    return result\n",
    "\n",
    "def gen_train_example():\n",
    "    r = random.randint(1, digits)\n",
    "    noOfBlanks = digits - r\n",
    "    images, labels = mnist.train.next_batch(digits-noOfBlanks)\n",
    "    result_image = concat_images(images)\n",
    "    result_image = (misc.imresize(result_image, (hight, width)).astype(float) - pixel_depth / 2) / pixel_depth\n",
    "    result_label = np.concatenate((labels, np.zeros((labels.shape[0], 1))), axis = 1)\n",
    "    result_label = result_label.flatten()\n",
    "    for _ in range(noOfBlanks):\n",
    "        result_label = np.concatenate((blank_label, result_label), axis = 0)\n",
    "    return result_image, result_label\n",
    "\n",
    "def gen_train_examples(size):\n",
    "    img = np.ndarray(shape=(size, hight, width))\n",
    "    lbl = np.ndarray(shape=(size, 11*digits))\n",
    "    for i in range(size):\n",
    "        img[i], lbl[i] = gen_train_example()\n",
    "    return img, lbl\n",
    "\n",
    "def gen_test_example():\n",
    "    r = random.randint(1, digits)\n",
    "    noOfBlanks = digits - r\n",
    "    images, labels = mnist.test.next_batch(digits-noOfBlanks)\n",
    "    result_image = concat_images(images)\n",
    "    result_image = (misc.imresize(result_image, (hight, width)).astype(float) - pixel_depth / 2) / pixel_depth\n",
    "    result_label = np.concatenate((labels, np.zeros((labels.shape[0], 1))), axis = 1)\n",
    "    result_label = result_label.flatten()\n",
    "    for _ in range(noOfBlanks):\n",
    "        result_label = np.concatenate((blank_label, result_label), axis = 0)\n",
    "    return result_image, result_label\n",
    "\n",
    "def gen_test_examples(size):\n",
    "    img = np.ndarray(shape=(size, hight, width))\n",
    "    lbl = np.ndarray(shape=(size, 11*digits))\n",
    "    for i in range(size):\n",
    "        img[i], lbl[i] = gen_test_example()\n",
    "    return img, lbl\n"
   ]
  },
  {
   "cell_type": "code",
   "execution_count": 4,
   "metadata": {
    "collapsed": false
   },
   "outputs": [
    {
     "name": "stdout",
     "output_type": "stream",
     "text": [
      "-0.3587510004\n"
     ]
    },
    {
     "data": {
      "image/png": "[encoded data removed]",
      "text/plain": [
       "<matplotlib.figure.Figure at 0x116ca4f90>"
      ]
     },
     "metadata": {},
     "output_type": "display_data"
    },
    {
     "name": "stdout",
     "output_type": "stream",
     "text": [
      "[8 1 0 9 8]\n"
     ]
    }
   ],
   "source": [
    "images, labels = gen_train_examples(1)\n",
    "print (np.mean(images[0]))\n",
    "plt.imshow(images[0], interpolation='nearest')\n",
    "plt.show()\n",
    "print (np.argmax(np.reshape(labels[0], (digits, 11)), 1))"
   ]
  },
  {
   "cell_type": "code",
   "execution_count": 5,
   "metadata": {
    "collapsed": true
   },
   "outputs": [],
   "source": [
    "def weight_variable(shape):\n",
    "  initial = tf.truncated_normal(shape, stddev=0.1)\n",
    "  return tf.Variable(initial)\n",
    "\n",
    "def bias_variable(shape):\n",
    "  initial = tf.constant(0.1, shape=shape)\n",
    "  return tf.Variable(initial)\n",
    "\n",
    "def conv2d(x, W):\n",
    "  return tf.nn.conv2d(x, W, strides=[1, 1, 1, 1], padding='SAME')\n",
    "\n",
    "def max_pool_2x2(x):\n",
    "  return tf.nn.max_pool(x, ksize=[1, 2, 2, 1],\n",
    "                        strides=[1, 2, 2, 1], padding='SAME')"
   ]
  },
  {
   "cell_type": "code",
   "execution_count": 6,
   "metadata": {
    "collapsed": false
   },
   "outputs": [],
   "source": [
    "from __future__ import absolute_import\n",
    "from __future__ import division\n",
    "from __future__ import print_function\n",
    "\n",
    "import argparse\n",
    "\n",
    "FLAGS = None\n",
    "\n",
    "learning_rate = tf.placeholder(tf.float32, shape=[])\n",
    "\n",
    "# Create the model\n",
    "x = tf.placeholder(tf.float32, [None, hight, width]) \n",
    "x_image = tf.reshape(x, [-1, hight, width, 1])\n",
    "\n",
    "keep_prob = tf.placeholder(tf.float32)\n",
    "\n",
    "## First Convolutional Layer\n",
    "W_conv1 = weight_variable([5, 5, 1, 48])\n",
    "b_conv1 = bias_variable([48])\n",
    "  \n",
    "h_conv1 = tf.nn.relu(conv2d(x_image, W_conv1) + b_conv1)\n",
    "h_pool1 = max_pool_2x2(h_conv1)\n",
    "h_lrn1 = tf.nn.lrn(h_pool1)\n",
    "  \n",
    "## Second Convolutional Layer\n",
    "W_conv2 = weight_variable([5, 5, 48, 128])\n",
    "b_conv2 = bias_variable([128])\n",
    "\n",
    "h_conv2 = tf.nn.relu(conv2d(h_lrn1, W_conv2) + b_conv2)\n",
    "h_pool2 = max_pool_2x2(h_conv2)\n",
    "h_lrn2 = tf.nn.lrn(h_pool2)\n",
    "\n",
    "## Third Convolutional Layer\n",
    "W_conv3 = weight_variable([5, 5, 128, 192])\n",
    "b_conv3 = bias_variable([192])\n",
    "\n",
    "h_conv3 = tf.nn.relu(conv2d(h_lrn2, W_conv3) + b_conv3)\n",
    "h_lrn3 = tf.nn.lrn(h_conv3)\n",
    "\n",
    "## Forth Convolutional Layer\n",
    "W_conv4 = weight_variable([3, 3, 192, 192])\n",
    "b_conv4 = bias_variable([192])\n",
    "\n",
    "h_conv4 = tf.nn.relu(conv2d(h_lrn3, W_conv4) + b_conv4)\n",
    "h_lrn4 = tf.nn.lrn(h_conv4)\n",
    "\n",
    "## Densely Connected Layer 1\n",
    "W_fc1 = weight_variable([hight * width * 12, 2048])\n",
    "b_fc1 = bias_variable([2048])\n",
    "\n",
    "h_pool2_flat = tf.reshape(h_lrn4, [-1, hight * width * 12])\n",
    "h_fc1 = tf.nn.relu(tf.matmul(h_pool2_flat, W_fc1) + b_fc1)\n",
    "\n",
    "## Densely Connected Layer 2\n",
    "W_fc2 = weight_variable([2048, 2048])\n",
    "b_fc2 = bias_variable([2048])\n",
    "\n",
    "h_fc2 = tf.nn.relu(tf.matmul(h_fc1, W_fc2) + b_fc2)\n",
    "h_fc2_drop = tf.nn.dropout(h_fc2, keep_prob)\n",
    "\n",
    "## Readout Layer\n",
    "W_fc3 = weight_variable([2048, 11*digits])\n",
    "b_fc3 = bias_variable([11*digits])\n",
    "\n",
    "y_conv = tf.matmul(h_fc2_drop, W_fc3) + b_fc3\n",
    "y_conv_r = tf.reshape(y_conv, [-1, digits, 11])\n",
    "\n",
    "y = tf.placeholder(tf.float32, [None, 11*digits])\n",
    "y_r = tf.reshape(y, [-1, digits, 11])\n",
    "\n",
    "cross_entropy = tf.reduce_mean(  tf.nn.softmax_cross_entropy_with_logits(y_conv_r[0], y_r[0]) \n",
    "                               + tf.nn.softmax_cross_entropy_with_logits(y_conv_r[1], y_r[1])\n",
    "                               + tf.nn.softmax_cross_entropy_with_logits(y_conv_r[2], y_r[2])\n",
    "                               + tf.nn.softmax_cross_entropy_with_logits(y_conv_r[3], y_r[3])\n",
    "                               + tf.nn.softmax_cross_entropy_with_logits(y_conv_r[4], y_r[4]))\n",
    "\n",
    "train_step = tf.train.AdamOptimizer(learning_rate=learning_rate).minimize(cross_entropy)\n",
    "\n",
    "accuracy_list = list()\n",
    "loss_list = list()\n",
    "\n",
    "correct_prediction = tf.equal(tf.argmax(y_conv_r, 2), tf.argmax(y_r, 2))\n",
    "# accuracy = tf.reduce_mean(tf.cast(correct_prediction, tf.float32))\n",
    "accuracy = tf.reduce_mean(tf.reduce_min(tf.cast(correct_prediction, tf.float32), 1))\n",
    "saver = tf.train.Saver()"
   ]
  },
  {
   "cell_type": "code",
   "execution_count": null,
   "metadata": {
    "collapsed": false
   },
   "outputs": [
    {
     "name": "stderr",
     "output_type": "stream",
     "text": [
      "Exception AssertionError: AssertionError(\"Nesting violated for default stack of <type 'weakref'> objects\",) in <bound method InteractiveSession.__del__ of <tensorflow.python.client.session.InteractiveSession object at 0x11468f990>> ignored\n"
     ]
    },
    {
     "name": "stdout",
     "output_type": "stream",
     "text": [
      "step 0, training accuracy 0, loss 377.154\n",
      "step 100, training accuracy 0.008, loss 18.9013\n",
      "step 200, training accuracy 0.036, loss 10.9165\n",
      "step 300, training accuracy 0.074, loss 13.5823\n",
      "step 400, training accuracy 0.062, loss 9.57307\n",
      "step 500, training accuracy 0.05, loss 5.93258\n",
      "step 600, training accuracy 0.078, loss 6.67105\n",
      "step 700, training accuracy 0.1, loss 8.36311\n",
      "step 800, training accuracy 0.126, loss 6.2505\n",
      "step 900, training accuracy 0.094, loss 6.61645\n",
      "step 1000, training accuracy 0.116, loss 5.06635\n",
      "step 1100, training accuracy 0.194, loss 5.64256\n",
      "step 1200, training accuracy 0.134, loss 6.10878\n",
      "step 1300, training accuracy 0.17, loss 4.93205\n",
      "step 1400, training accuracy 0.2, loss 4.29173\n",
      "step 1500, training accuracy 0.236, loss 4.70104\n",
      "step 1600, training accuracy 0.256, loss 2.78675\n",
      "step 1700, training accuracy 0.222, loss 3.72618\n",
      "step 1800, training accuracy 0.238, loss 7.449\n",
      "step 1900, training accuracy 0.268, loss 3.92315\n",
      "step 2000, training accuracy 0.28, loss 6.1028\n",
      "step 2100, training accuracy 0.26, loss 4.39659\n",
      "step 2200, training accuracy 0.28, loss 5.20705\n",
      "step 2300, training accuracy 0.304, loss 3.12817\n",
      "step 2400, training accuracy 0.304, loss 3.4447\n",
      "step 2500, training accuracy 0.346, loss 3.01573\n",
      "step 2600, training accuracy 0.368, loss 4.82762\n",
      "step 2700, training accuracy 0.358, loss 1.56763\n",
      "step 2800, training accuracy 0.346, loss 4.80096\n",
      "step 2900, training accuracy 0.392, loss 3.86297\n",
      "step 3000, training accuracy 0.426, loss 3.08053\n",
      "step 3100, training accuracy 0.37, loss 2.28815\n",
      "step 3200, training accuracy 0.464, loss 3.62836\n",
      "step 3300, training accuracy 0.362, loss 3.50261\n",
      "step 3400, training accuracy 0.404, loss 1.43126\n",
      "step 3500, training accuracy 0.458, loss 3.51812\n",
      "step 3600, training accuracy 0.488, loss 1.75394\n",
      "step 3700, training accuracy 0.43, loss 4.18615\n",
      "step 3800, training accuracy 0.476, loss 1.13922\n",
      "step 3900, training accuracy 0.502, loss 2.90009\n",
      "step 4000, training accuracy 0.464, loss 1.39304\n",
      "step 4100, training accuracy 0.674, loss 1.17484\n",
      "step 4200, training accuracy 0.63, loss 0.764386\n",
      "step 4300, training accuracy 0.66, loss 1.08796\n",
      "step 4400, training accuracy 0.648, loss 2.04768\n",
      "step 4500, training accuracy 0.65, loss 2.50547\n",
      "step 4600, training accuracy 0.666, loss 0.999165\n",
      "step 4700, training accuracy 0.662, loss 0.542881\n",
      "step 4800, training accuracy 0.654, loss 1.52602\n",
      "step 4900, training accuracy 0.694, loss 0.892447\n",
      "step 5000, training accuracy 0.704, loss 1.94672\n",
      "step 5100, training accuracy 0.694, loss 1.77852\n",
      "step 5200, training accuracy 0.672, loss 1.74415\n",
      "step 5300, training accuracy 0.702, loss 2.66987\n",
      "step 5400, training accuracy 0.638, loss 2.37486\n",
      "step 5500, training accuracy 0.702, loss 1.78755\n",
      "step 5600, training accuracy 0.682, loss 0.835229\n",
      "step 5700, training accuracy 0.692, loss 2.18068\n",
      "step 5800, training accuracy 0.696, loss 1.41235\n",
      "step 5900, training accuracy 0.67, loss 1.05876\n",
      "step 6000, training accuracy 0.726, loss 0.828673\n",
      "step 6100, training accuracy 0.694, loss 0.440622\n",
      "step 6200, training accuracy 0.732, loss 0.210673\n",
      "step 6300, training accuracy 0.742, loss 1.60578\n",
      "step 6400, training accuracy 0.734, loss 1.9558\n",
      "step 6500, training accuracy 0.72, loss 0.782062\n",
      "step 6600, training accuracy 0.738, loss 0.576312\n",
      "step 6700, training accuracy 0.758, loss 1.36669\n",
      "step 6800, training accuracy 0.752, loss 0.626259\n",
      "step 6900, training accuracy 0.716, loss 1.09976\n",
      "step 7000, training accuracy 0.734, loss 0.258605\n",
      "step 7100, training accuracy 0.716, loss 0.177964\n",
      "step 7200, training accuracy 0.718, loss 0.350635\n",
      "step 7300, training accuracy 0.726, loss 0.779293\n",
      "step 7400, training accuracy 0.746, loss 1.60402\n",
      "step 7500, training accuracy 0.784, loss 0.331194\n",
      "step 7600, training accuracy 0.776, loss 1.1296\n",
      "step 7700, training accuracy 0.758, loss 0.595423\n",
      "step 7800, training accuracy 0.718, loss 0.451225\n",
      "step 7900, training accuracy 0.754, loss 0.211448\n",
      "step 8000, training accuracy 0.784, loss 3.7953\n",
      "step 8100, training accuracy 0.8, loss 1.03646\n",
      "step 8200, training accuracy 0.838, loss 0.452222\n",
      "step 8300, training accuracy 0.734, loss 1.50256\n",
      "step 8400, training accuracy 0.804, loss 0.462043\n",
      "step 8500, training accuracy 0.766, loss 0.592512\n",
      "step 8600, training accuracy 0.738, loss 0.686239\n",
      "step 8700, training accuracy 0.784, loss 0.207563\n",
      "step 8800, training accuracy 0.76, loss 1.87153\n",
      "step 8900, training accuracy 0.786, loss 0.0777877\n",
      "step 9000, training accuracy 0.768, loss 1.09983\n",
      "step 9100, training accuracy 0.78, loss 1.30685\n",
      "step 9200, training accuracy 0.772, loss 0.0798501\n",
      "step 9300, training accuracy 0.784, loss 0.123116\n",
      "step 9400, training accuracy 0.818, loss 0.59047\n",
      "step 9500, training accuracy 0.802, loss 1.05413\n",
      "step 9600, training accuracy 0.818, loss 0.0439119\n",
      "step 9700, training accuracy 0.76, loss 0.161702\n",
      "step 9800, training accuracy 0.76, loss 0.376425\n",
      "step 9900, training accuracy 0.802, loss 1.35076\n",
      "step 10000, training accuracy 0.782, loss 0.118537\n",
      "test accuracy 0.7965\n"
     ]
    }
   ],
   "source": [
    "sess = tf.InteractiveSession()\n",
    "sess.run(tf.initialize_all_variables())\n",
    "no_of_steps = 1001\n",
    "step = 100\n",
    "for i in range(no_of_steps):\n",
    "  batch_images, batch_labels = gen_train_examples(50)\n",
    "  lr = 0.0005\n",
    "  if i >= 4000:\n",
    "    lr = 0.0002\n",
    "  loss = train_step.run(feed_dict={x: batch_images, y: batch_labels, keep_prob: 1.0, learning_rate: lr})\n",
    "  if i%step == 0:\n",
    "    batch_images, batch_labels = gen_train_examples(500)\n",
    "    loss, train_accuracy = sess.run([cross_entropy, accuracy], feed_dict={x:batch_images, y: batch_labels, keep_prob: 1.0, learning_rate: lr})\n",
    "#    train_accuracy = accuracy.eval(feed_dict={x:batch_images, y_: batch_labels, keep_prob: 1.0})\n",
    "    accuracy_list.append(train_accuracy)\n",
    "    loss_list.append(loss)\n",
    "    print(\"step %d, training accuracy %g, loss %g\"%(i, train_accuracy, loss))\n",
    "  \n",
    "test_imgs, test_labels = gen_test_examples(2000)\n",
    "print(\"test accuracy %g\"%accuracy.eval(feed_dict={\n",
    "  x: test_imgs, y: test_labels, keep_prob: 1.0}))"
   ]
  },
  {
   "cell_type": "code",
   "execution_count": null,
   "metadata": {
    "collapsed": false
   },
   "outputs": [],
   "source": [
    "import matplotlib.pyplot as plt\n",
    "fix, ax = plt.subplots(nrows=1, ncols=1)\n",
    "ax.plot(range(0, no_of_steps, step), accuracy_list, 'r')\n",
    "plt.show()\n",
    "fix.savefig('synth_lr0001.png')"
   ]
  },
  {
   "cell_type": "code",
   "execution_count": null,
   "metadata": {
    "collapsed": false
   },
   "outputs": [],
   "source": [
    "save_path = saver.save(sess, \"./synth/model_synth.ckpt\")\n",
    "print(\"Model saved in file: %s\" % save_path)"
   ]
  },
  {
   "cell_type": "code",
   "execution_count": null,
   "metadata": {
    "collapsed": false
   },
   "outputs": [],
   "source": [
    "test_imgs, test_labels = gen_test_examples(5000)\n",
    "print(\"test accuracy %g\"%accuracy.eval(feed_dict={\n",
    "  x: test_imgs, y: test_labels, keep_prob: 1.0}))"
   ]
  },
  {
   "cell_type": "code",
   "execution_count": null,
   "metadata": {
    "collapsed": false
   },
   "outputs": [],
   "source": [
    "if False:\n",
    "    sess = tf.InteractiveSession()\n",
    "    saver.restore(sess, \"./synth/model.ckpt\")\n",
    "    print (\"Model restored.\")"
   ]
  },
  {
   "cell_type": "code",
   "execution_count": 30,
   "metadata": {
    "collapsed": false
   },
   "outputs": [
    {
     "data": {
      "image/png": "[encoded data removed]",
      "text/plain": [
       "<matplotlib.figure.Figure at 0x127b0d690>"
      ]
     },
     "metadata": {},
     "output_type": "display_data"
    },
    {
     "name": "stdout",
     "output_type": "stream",
     "text": [
      "[[ 0.07862698  0.07862698  0.07862698  0.07862698  0.07862698  0.07862698\n",
      "   0.07862698  0.07862698  0.07862698  0.07862698  0.21373029]\n",
      " [ 0.07862698  0.07862698  0.07862698  0.07862698  0.07862698  0.07862698\n",
      "   0.07862698  0.07862698  0.07862698  0.07862698  0.21373029]\n",
      " [ 0.07862698  0.07862698  0.07862698  0.21373028  0.07862698  0.07862698\n",
      "   0.07862698  0.07862698  0.07862698  0.07862698  0.07862698]\n",
      " [ 0.07862698  0.07862698  0.07862698  0.07862698  0.07862698  0.21373028\n",
      "   0.07862698  0.07862698  0.07862698  0.07862698  0.07862698]\n",
      " [ 0.07862698  0.07862698  0.07862698  0.07862698  0.07862698  0.07862698\n",
      "   0.07862698  0.21373028  0.07862698  0.07862698  0.07862698]]\n",
      "0.000445995\n",
      "Tensor(\"ArgMax_5:0\", shape=(5,), dtype=int64)\n",
      "[10 10  3  5  7]\n"
     ]
    }
   ],
   "source": [
    "test_imgs, test_labels = gen_train_examples(1)\n",
    "plt.imshow(test_imgs[0], interpolation='nearest')\n",
    "plt.show()\n",
    "\n",
    "loss, train_accuracy, pred = sess.run([cross_entropy, accuracy, y], feed_dict={x:test_imgs, y:test_labels, keep_prob: 1.0, learning_rate: 1.0e-04})\n",
    "# print (pred)\n",
    "pred = tf.reshape(pred, (digits, 11))\n",
    "pred = tf.nn.softmax(pred)\n",
    "aa = pred.eval()\n",
    "print (aa)\n",
    "confidence = reduce(lambda a, b: a*b, [aa[i][a] for i, a in enumerate(np.argmax(aa, 1))])\n",
    "print (confidence)\n",
    "aa = tf.argmax(aa, 1)\n",
    "print (aa)\n",
    "print (np.argmax(tf.reshape(test_labels, (digits, 11)).eval(), 1))"
   ]
  },
  {
   "cell_type": "code",
   "execution_count": null,
   "metadata": {
    "collapsed": true
   },
   "outputs": [],
   "source": []
  }
 ],
 "metadata": {
  "anaconda-cloud": {},
  "kernelspec": {
   "display_name": "Python [tensorflow]",
   "language": "python",
   "name": "Python [tensorflow]"
  },
  "language_info": {
   "codemirror_mode": {
    "name": "ipython",
    "version": 2
   },
   "file_extension": ".py",
   "mimetype": "text/x-python",
   "name": "python",
   "nbconvert_exporter": "python",
   "pygments_lexer": "ipython2",
   "version": "2.7.12"
  }
 },
 "nbformat": 4,
 "nbformat_minor": 0
}
