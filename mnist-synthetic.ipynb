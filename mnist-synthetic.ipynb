{
 "cells": [
  {
   "cell_type": "code",
   "execution_count": 1,
   "metadata": {
    "collapsed": false
   },
   "outputs": [
    {
     "name": "stdout",
     "output_type": "stream",
     "text": [
      "Extracting ./data/MNIST/train-images-idx3-ubyte.gz\n",
      "Extracting ./data/MNIST/train-labels-idx1-ubyte.gz\n",
      "Extracting ./data/MNIST/t10k-images-idx3-ubyte.gz\n",
      "Extracting ./data/MNIST/t10k-labels-idx1-ubyte.gz\n"
     ]
    }
   ],
   "source": [
    "from __future__ import absolute_import\n",
    "from __future__ import division\n",
    "from __future__ import print_function\n",
    "\n",
    "import argparse\n",
    "\n",
    "# Import data\n",
    "from tensorflow.examples.tutorials.mnist import input_data\n",
    "\n",
    "import tensorflow as tf\n",
    "\n",
    "FLAGS = None\n",
    "\n",
    "mnist = input_data.read_data_sets('./data/MNIST', one_hot=True)"
   ]
  },
  {
   "cell_type": "code",
   "execution_count": 2,
   "metadata": {
    "collapsed": false
   },
   "outputs": [
    {
     "name": "stderr",
     "output_type": "stream",
     "text": [
      "//anaconda/envs/tensorflow/lib/python2.7/site-packages/matplotlib/font_manager.py:273: UserWarning: Matplotlib is building the font cache using fc-list. This may take a moment.\n",
      "  warnings.warn('Matplotlib is building the font cache using fc-list. This may take a moment.')\n"
     ]
    },
    {
     "data": {
      "image/png": "[encoded data removed]",
      "text/plain": [
       "<matplotlib.figure.Figure at 0x112061410>"
      ]
     },
     "metadata": {},
     "output_type": "display_data"
    }
   ],
   "source": [
    "import matplotlib.pyplot as plt\n",
    "import numpy as np\n",
    "\n",
    "images, labels = mnist.train.next_batch(5)\n",
    "plt.imshow(np.reshape(images[2], (28, 28)), interpolation='nearest')\n",
    "plt.show()\n"
   ]
  },
  {
   "cell_type": "code",
   "execution_count": 4,
   "metadata": {
    "collapsed": false
   },
   "outputs": [
    {
     "name": "stdout",
     "output_type": "stream",
     "text": [
      "(28, 56)\n"
     ]
    },
    {
     "data": {
      "image/png": "[encoded data removed]",
      "text/plain": [
       "<matplotlib.figure.Figure at 0x112061310>"
      ]
     },
     "metadata": {},
     "output_type": "display_data"
    },
    {
     "name": "stdout",
     "output_type": "stream",
     "text": [
      "[[ 0.  0.  0.  0.  0.  0.  0.  1.  0.  0.]\n",
      " [ 0.  0.  0.  1.  0.  0.  0.  0.  0.  0.]]\n"
     ]
    }
   ],
   "source": [
    "from scipy import ndimage, misc\n",
    "\n",
    "def concat_images(images):\n",
    "    if images.shape[0] == 1:\n",
    "        return np.reshape(images, (28, 28))\n",
    "    return np.concatenate((np.reshape(images[0], (28,28)), concat_images(images[1:])), axis = 1)\n",
    "\n",
    "def concat_labels(labels):\n",
    "    if labels.shape[0] == 1:\n",
    "        return labels\n",
    "    return np.concatenate((labels[0], concat_labels(labels[1:])), axis = 1)\n",
    "\n",
    "image = concat_images(images[0:2])\n",
    "print (image.shape)\n",
    "image = misc.imresize(image, (28, 2*28))\n",
    "result_label = np.concatenate((labels[0], labels[1]), axis = 0)\n",
    "plt.imshow(image, interpolation='nearest')\n",
    "plt.show()\n",
    "print (np.reshape(result_label, (2, 10)))"
   ]
  },
  {
   "cell_type": "code",
   "execution_count": 5,
   "metadata": {
    "collapsed": false
   },
   "outputs": [
    {
     "name": "stdout",
     "output_type": "stream",
     "text": [
      "[ 0.  0.  0.  0.  0.  0.  0.  1.  0.  0.  0.  0.  0.  1.  0.  0.  0.  0.\n",
      "  0.  0.  0.  0.  0.  0.  1.  0.  0.  0.  0.  0.  0.  0.  0.  0.  0.  0.\n",
      "  1.  0.  0.  0.  0.  1.  0.  0.  0.  0.  0.  0.  0.  0.]\n"
     ]
    },
    {
     "data": {
      "image/png": "[encoded data removed]",
      "text/plain": [
       "<matplotlib.figure.Figure at 0x11419d110>"
      ]
     },
     "metadata": {},
     "output_type": "display_data"
    }
   ],
   "source": [
    "result = concat_images(images[0:5])\n",
    "print (labels[0:5].flatten())\n",
    "plt.imshow(result, interpolation='nearest')\n",
    "plt.show()"
   ]
  },
  {
   "cell_type": "code",
   "execution_count": 15,
   "metadata": {
    "collapsed": false
   },
   "outputs": [
    {
     "data": {
      "image/png": "[encoded data removed]",
      "text/plain": [
       "<matplotlib.figure.Figure at 0x12218de90>"
      ]
     },
     "metadata": {},
     "output_type": "display_data"
    },
    {
     "name": "stdout",
     "output_type": "stream",
     "text": [
      "[10  8]\n"
     ]
    }
   ],
   "source": [
    "import random\n",
    "import math\n",
    "digits = 2\n",
    "hight = 28\n",
    "width = 56\n",
    "\n",
    "blank = np.zeros((28, 28))\n",
    "blank_label = np.zeros((1, 11))\n",
    "blank_label[0][10] = 1\n",
    "blank_label = blank_label.flatten()\n",
    "\n",
    "def decode_labels(labels):\n",
    "    result = 0\n",
    "    for i in range(labels.shape[0]):\n",
    "        result *= 10\n",
    "        result += np.ndarray.argmax(labels[i], axis = 0)\n",
    "    return result\n",
    "\n",
    "def gen_train_example():\n",
    "    r = random.randint(1, digits)\n",
    "    noOfBlanks = digits - r\n",
    "    images, labels = mnist.train.next_batch(digits-noOfBlanks)\n",
    "    result_image = concat_images(images)\n",
    "    result_image = misc.imresize(result_image, (hight, width))\n",
    "    result_label = np.concatenate((labels, np.zeros((labels.shape[0], 1))), axis = 1)\n",
    "    result_label = result_label.flatten()\n",
    "    for _ in range(noOfBlanks):\n",
    "        result_label = np.concatenate((blank_label, result_label), axis = 0)\n",
    "    return result_image, result_label\n",
    "\n",
    "def gen_train_examples(size):\n",
    "    img = np.ndarray(shape=(size, hight, width))\n",
    "    lbl = np.ndarray(shape=(size, 11*digits))\n",
    "    for i in range(size):\n",
    "        img[i], lbl[i] = gen_train_example()\n",
    "    return img, lbl\n",
    "\n",
    "def gen_test_example():\n",
    "    r = random.randint(1, digits)\n",
    "    noOfBlanks = digits - r\n",
    "    images, labels = mnist.test.next_batch(digits-noOfBlanks)\n",
    "    result_image = concat_images(images)\n",
    "    result_image = misc.imresize(result_image, (hight, width))\n",
    "    result_label = np.concatenate((labels, np.zeros((labels.shape[0], 1))), axis = 1)\n",
    "    result_label = result_label.flatten()\n",
    "    for _ in range(noOfBlanks):\n",
    "        result_label = np.concatenate((blank_label, result_label), axis = 0)\n",
    "    return result_image, result_label\n",
    "\n",
    "def gen_test_examples(size):\n",
    "    img = np.ndarray(shape=(size, hight, width))\n",
    "    lbl = np.ndarray(shape=(size, 11*digits))\n",
    "    for i in range(size):\n",
    "        img[i], lbl[i] = gen_test_example()\n",
    "    return img, lbl\n",
    "\n",
    "images, labels = gen_train_examples(2)\n",
    "plt.imshow(images[0], interpolation='nearest')\n",
    "plt.show()\n",
    "print (np.argmax(np.reshape(labels[0], (digits, 11)), 1))"
   ]
  },
  {
   "cell_type": "code",
   "execution_count": 7,
   "metadata": {
    "collapsed": true
   },
   "outputs": [],
   "source": [
    "def weight_variable(shape):\n",
    "  initial = tf.truncated_normal(shape, stddev=0.1)\n",
    "  return tf.Variable(initial)\n",
    "\n",
    "def bias_variable(shape):\n",
    "  initial = tf.constant(0.1, shape=shape)\n",
    "  return tf.Variable(initial)\n",
    "\n",
    "def conv2d(x, W):\n",
    "  return tf.nn.conv2d(x, W, strides=[1, 1, 1, 1], padding='SAME')\n",
    "\n",
    "def max_pool_2x2(x):\n",
    "  return tf.nn.max_pool(x, ksize=[1, 2, 2, 1],\n",
    "                        strides=[1, 2, 2, 1], padding='SAME')"
   ]
  },
  {
   "cell_type": "code",
   "execution_count": 47,
   "metadata": {
    "collapsed": false
   },
   "outputs": [
    {
     "name": "stderr",
     "output_type": "stream",
     "text": [
      "Exception AssertionError: AssertionError(\"Nesting violated for default stack of <type 'weakref'> objects\",) in <bound method InteractiveSession.__del__ of <tensorflow.python.client.session.InteractiveSession object at 0x291991f10>> ignored\n"
     ]
    },
    {
     "name": "stdout",
     "output_type": "stream",
     "text": [
      "step 0, training accuracy 0.09, loss 36.8968\n",
      "step 100, training accuracy 0.2925, loss 10.497\n",
      "step 200, training accuracy 0.3325, loss 1.90155\n",
      "step 300, training accuracy 0.335, loss 8.23522\n",
      "step 400, training accuracy 0.39, loss 6.51378\n",
      "step 500, training accuracy 0.4225, loss 1.61092\n",
      "step 600, training accuracy 0.4075, loss 6.29998\n",
      "step 700, training accuracy 0.45, loss 2.59703\n",
      "step 800, training accuracy 0.4875, loss 4.44641\n",
      "step 900, training accuracy 0.4325, loss 4.46668\n",
      "step 1000, training accuracy 0.4875, loss 2.23849\n",
      "step 1100, training accuracy 0.5825, loss 2.03229\n",
      "step 1200, training accuracy 0.5025, loss 3.08046\n",
      "step 1300, training accuracy 0.5675, loss 3.47987\n",
      "step 1400, training accuracy 0.625, loss 2.44237\n",
      "step 1500, training accuracy 0.605, loss 1.95668\n",
      "step 1600, training accuracy 0.62, loss 3.8457\n",
      "step 1700, training accuracy 0.625, loss 0.523236\n",
      "step 1800, training accuracy 0.655, loss 2.14686\n",
      "step 1900, training accuracy 0.675, loss 2.03694\n",
      "step 2000, training accuracy 0.6875, loss 1.28055\n",
      "step 2100, training accuracy 0.6825, loss 3.15993\n",
      "step 2200, training accuracy 0.69, loss 0.121669\n",
      "step 2300, training accuracy 0.655, loss 2.44646\n",
      "step 2400, training accuracy 0.6825, loss 0.646799\n",
      "step 2500, training accuracy 0.6875, loss 0.217901\n",
      "step 2600, training accuracy 0.7, loss 1.97339\n",
      "step 2700, training accuracy 0.6675, loss 3.2081\n",
      "step 2800, training accuracy 0.7075, loss 0.199609\n",
      "step 2900, training accuracy 0.76, loss 0.685812\n",
      "step 3000, training accuracy 0.73, loss 1.10219\n",
      "step 3100, training accuracy 0.7175, loss 0.0138337\n",
      "step 3200, training accuracy 0.715, loss 0.302708\n",
      "step 3300, training accuracy 0.685, loss 1.69886\n",
      "step 3400, training accuracy 0.7425, loss 0.0543469\n",
      "step 3500, training accuracy 0.7725, loss 0.295105\n",
      "step 3600, training accuracy 0.75, loss 0.0153177\n",
      "step 3700, training accuracy 0.7625, loss 0.795557\n",
      "step 3800, training accuracy 0.7875, loss 0.0294975\n",
      "step 3900, training accuracy 0.7825, loss 0.281556\n",
      "step 4000, training accuracy 0.7775, loss 2.0583\n",
      "step 4100, training accuracy 0.7975, loss 0.260073\n",
      "step 4200, training accuracy 0.825, loss 0.546693\n",
      "step 4300, training accuracy 0.8225, loss 1.45009\n",
      "step 4400, training accuracy 0.805, loss 0.0310748\n",
      "step 4500, training accuracy 0.8025, loss 0.0049509\n",
      "step 4600, training accuracy 0.79, loss 3.46506\n",
      "step 4700, training accuracy 0.815, loss 1.38596\n",
      "step 4800, training accuracy 0.8225, loss 0.33788\n",
      "step 4900, training accuracy 0.8225, loss 0.457955\n",
      "step 5000, training accuracy 0.8075, loss 0.0205244\n",
      "test accuracy 0.8355\n"
     ]
    }
   ],
   "source": [
    "from __future__ import absolute_import\n",
    "from __future__ import division\n",
    "from __future__ import print_function\n",
    "\n",
    "import argparse\n",
    "\n",
    "FLAGS = None\n",
    "input_image_size = 28*28*digits\n",
    "\n",
    "learning_rate = tf.placeholder(tf.float32, shape=[])\n",
    "\n",
    "# Create the model\n",
    "x = tf.placeholder(tf.float32, [None, hight, width]) \n",
    "x_image = tf.reshape(x, [-1, hight, width, 1])\n",
    "\n",
    "keep_prob = tf.placeholder(tf.float32)\n",
    "\n",
    "## First Convolutional Layer\n",
    "W_conv1 = weight_variable([5, 5, 1, 32])\n",
    "b_conv1 = bias_variable([32])\n",
    "  \n",
    "h_conv1 = tf.nn.relu(conv2d(x_image, W_conv1) + b_conv1)\n",
    "h_pool1 = max_pool_2x2(h_conv1)\n",
    "h_lrn1 = tf.nn.lrn(h_pool1)\n",
    "  \n",
    "## Second Convolutional Layer\n",
    "W_conv2 = weight_variable([5, 5, 32, 64])\n",
    "b_conv2 = bias_variable([64])\n",
    "\n",
    "h_conv2 = tf.nn.relu(conv2d(h_lrn1, W_conv2) + b_conv2)\n",
    "h_pool2 = max_pool_2x2(h_conv2)\n",
    "h_lrn2 = tf.nn.lrn(h_pool2)\n",
    "\n",
    "## Densely Connected Layer 1\n",
    "W_fc1 = weight_variable([hight * width * 4, 1024])\n",
    "b_fc1 = bias_variable([1024])\n",
    "\n",
    "h_pool2_flat = tf.reshape(h_lrn2, [-1, hight * width * 4])\n",
    "h_fc1 = tf.nn.relu(tf.matmul(h_pool2_flat, W_fc1) + b_fc1)\n",
    "\n",
    "## Densely Connected Layer 2\n",
    "W_fc2 = weight_variable([1024, 1024])\n",
    "b_fc2 = bias_variable([1024])\n",
    "\n",
    "h_fc2 = tf.nn.relu(tf.matmul(h_fc1, W_fc2) + b_fc2)\n",
    "h_fc2_drop = tf.nn.dropout(h_fc2, keep_prob)\n",
    "\n",
    "## Readout Layer\n",
    "W_fc3 = weight_variable([1024, 11*digits])\n",
    "b_fc3 = bias_variable([11*digits])\n",
    "\n",
    "y_conv = tf.matmul(h_fc2_drop, W_fc3) + b_fc3\n",
    "y_conv_r = tf.reshape(y_conv, [-1, digits, 11])\n",
    "\n",
    "y_ = tf.placeholder(tf.float32, [None, 11*digits])\n",
    "y_r = tf.reshape(y_, [-1, digits, 11])\n",
    "\n",
    "cross_entropy = tf.reduce_mean(  tf.nn.softmax_cross_entropy_with_logits(y_conv_r[0], y_r[0]) \n",
    "                               + tf.nn.softmax_cross_entropy_with_logits(y_conv_r[1], y_r[1]))\n",
    "\n",
    "train_step = tf.train.AdamOptimizer(learning_rate=learning_rate).minimize(cross_entropy)\n",
    "\n",
    "\n",
    "correct_prediction = tf.equal(tf.argmax(y_conv_r, 2), tf.argmax(y_r, 2))\n",
    "accuracy = tf.reduce_mean(tf.cast(correct_prediction, tf.float32))\n",
    "sess = tf.InteractiveSession()\n",
    "sess.run(tf.initialize_all_variables())\n",
    "for i in range(5001):\n",
    "  batch_images, batch_labels = gen_train_examples(50)\n",
    "  lr = 0.00001\n",
    "  loss = train_step.run(feed_dict={x: batch_images, y_: batch_labels, keep_prob: 1.0, learning_rate: lr})\n",
    "  if i%100 == 0:\n",
    "    batch_images, batch_labels = gen_train_examples(200)\n",
    "    loss, train_accuracy = sess.run([cross_entropy, accuracy], feed_dict={x:batch_images, y_: batch_labels, keep_prob: 1.0, learning_rate: lr})\n",
    "#    train_accuracy = accuracy.eval(feed_dict={x:batch_images, y_: batch_labels, keep_prob: 1.0})\n",
    "    print(\"step %d, training accuracy %g, loss %g\"%(i, train_accuracy, loss))\n",
    "  \n",
    "test_imgs, test_labels = gen_test_examples(1000)\n",
    "print(\"test accuracy %g\"%accuracy.eval(feed_dict={\n",
    "  x: test_imgs, y_: test_labels, keep_prob: 1.0}))"
   ]
  },
  {
   "cell_type": "code",
   "execution_count": 66,
   "metadata": {
    "collapsed": false
   },
   "outputs": [
    {
     "data": {
      "image/png": "[encoded data removed]",
      "text/plain": [
       "<matplotlib.figure.Figure at 0x497fb8590>"
      ]
     },
     "metadata": {},
     "output_type": "display_data"
    },
    {
     "name": "stdout",
     "output_type": "stream",
     "text": [
      "[[  2.73219805e-04   2.75955274e-04   2.12883577e-03   1.72216623e-05\n",
      "    9.81471002e-01   9.60488617e-03   7.16195427e-06   1.46365771e-03\n",
      "    3.15125246e-04   4.43182560e-03   1.10887486e-05]\n",
      " [  5.29455021e-03   7.06549585e-01   1.67034648e-03   2.60802428e-03\n",
      "    5.94993355e-03   1.70997933e-01   3.10346968e-02   4.49852236e-02\n",
      "    2.71496139e-02   3.75835691e-03   1.76499373e-06]]\n",
      "[4 1]\n",
      "[4 1]\n"
     ]
    }
   ],
   "source": [
    "def decode(output):\n",
    "    result = ''\n",
    "    for x in output:\n",
    "        if x != 10:\n",
    "            result = result + str(x)\n",
    "    return result\n",
    "\n",
    "\n",
    "test_imgs, test_labels = gen_test_examples(1)\n",
    "plt.imshow(test_imgs[0], interpolation='nearest')\n",
    "plt.show()\n",
    "pred = y_conv.eval(feed_dict={x:test_imgs, keep_prob: 1.0})\n",
    "pred = tf.reshape(pred, (digits, 11))\n",
    "pred = tf.nn.softmax(pred)\n",
    "print (pred.eval())\n",
    "pred = tf.argmax(pred, 1)\n",
    "print (pred.eval())\n",
    "print (np.argmax(tf.reshape(test_labels, (digits, 11)).eval(), 1))"
   ]
  }
 ],
 "metadata": {
  "anaconda-cloud": {},
  "kernelspec": {
   "display_name": "Python [tensorflow]",
   "language": "python",
   "name": "Python [tensorflow]"
  },
  "language_info": {
   "codemirror_mode": {
    "name": "ipython",
    "version": 2
   },
   "file_extension": ".py",
   "mimetype": "text/x-python",
   "name": "python",
   "nbconvert_exporter": "python",
   "pygments_lexer": "ipython2",
   "version": "2.7.12"
  }
 },
 "nbformat": 4,
 "nbformat_minor": 0
}
