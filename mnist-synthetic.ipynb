{
 "cells": [
  {
   "cell_type": "code",
   "execution_count": 1,
   "metadata": {
    "collapsed": false
   },
   "outputs": [
    {
     "name": "stdout",
     "output_type": "stream",
     "text": [
      "Successfully downloaded train-images-idx3-ubyte.gz 9912422 bytes.\n",
      "Extracting ./data/MNIST/train-images-idx3-ubyte.gz\n",
      "Successfully downloaded train-labels-idx1-ubyte.gz 28881 bytes.\n",
      "Extracting ./data/MNIST/train-labels-idx1-ubyte.gz\n",
      "Successfully downloaded t10k-images-idx3-ubyte.gz 1648877 bytes.\n",
      "Extracting ./data/MNIST/t10k-images-idx3-ubyte.gz\n",
      "Successfully downloaded t10k-labels-idx1-ubyte.gz 4542 bytes.\n",
      "Extracting ./data/MNIST/t10k-labels-idx1-ubyte.gz\n"
     ]
    }
   ],
   "source": [
    "from __future__ import absolute_import\n",
    "from __future__ import division\n",
    "from __future__ import print_function\n",
    "\n",
    "import argparse\n",
    "\n",
    "# Import data\n",
    "from tensorflow.examples.tutorials.mnist import input_data\n",
    "\n",
    "import tensorflow as tf\n",
    "\n",
    "FLAGS = None\n",
    "\n",
    "mnist = input_data.read_data_sets('./data/MNIST', one_hot=True)"
   ]
  },
  {
   "cell_type": "code",
   "execution_count": 2,
   "metadata": {
    "collapsed": false
   },
   "outputs": [
    {
     "data": {
      "image/png": "[encoded data removed]",
      "text/plain": [
       "<matplotlib.figure.Figure at 0x7f229e469c50>"
      ]
     },
     "metadata": {},
     "output_type": "display_data"
    }
   ],
   "source": [
    "import matplotlib.pyplot as plt\n",
    "import numpy as np\n",
    "\n",
    "images, labels = mnist.train.next_batch(5)\n",
    "plt.imshow(np.reshape(images[2], (28, 28)), interpolation='nearest')\n",
    "plt.show()\n"
   ]
  },
  {
   "cell_type": "code",
   "execution_count": 4,
   "metadata": {
    "collapsed": false
   },
   "outputs": [],
   "source": [
    "import random\n",
    "import math\n",
    "from scipy import ndimage, misc\n",
    "\n",
    "digits = 5\n",
    "hight = 28\n",
    "width = 56\n",
    "pixel_depth = 255.0\n",
    "\n",
    "blank = np.zeros((28, 28))\n",
    "blank_label = np.zeros((1, 11))\n",
    "blank_label[0][10] = 1\n",
    "blank_label = blank_label.flatten()\n",
    "\n",
    "\n",
    "def concat_images(images):\n",
    "    if images.shape[0] == 1:\n",
    "        return np.reshape(images, (28, 28))\n",
    "    return np.concatenate((np.reshape(images[0], (28,28)), concat_images(images[1:])), axis = 1)\n",
    "\n",
    "def concat_labels(labels):\n",
    "    if labels.shape[0] == 1:\n",
    "        return labels\n",
    "    return np.concatenate((labels[0], concat_labels(labels[1:])), axis = 1)\n",
    "\n",
    "def decode_labels(labels):\n",
    "    result = 0\n",
    "    for i in range(labels.shape[0]):\n",
    "        result *= 10\n",
    "        result += np.ndarray.argmax(labels[i], axis = 0)\n",
    "    return result\n",
    "\n",
    "def gen_train_example():\n",
    "    r = random.randint(1, digits)\n",
    "    noOfBlanks = digits - r\n",
    "    images, labels = mnist.train.next_batch(digits-noOfBlanks)\n",
    "    result_image = concat_images(images)\n",
    "    result_image = (misc.imresize(result_image, (hight, width)).astype(float) - pixel_depth / 2) / pixel_depth\n",
    "    result_label = np.concatenate((labels, np.zeros((labels.shape[0], 1))), axis = 1)\n",
    "    result_label = result_label.flatten()\n",
    "    for _ in range(noOfBlanks):\n",
    "        result_label = np.concatenate((blank_label, result_label), axis = 0)\n",
    "    return result_image, result_label\n",
    "\n",
    "def gen_train_examples(size):\n",
    "    img = np.ndarray(shape=(size, hight, width))\n",
    "    lbl = np.ndarray(shape=(size, 11*digits))\n",
    "    for i in range(size):\n",
    "        img[i], lbl[i] = gen_train_example()\n",
    "    return img, lbl\n",
    "\n",
    "def gen_test_example():\n",
    "    r = random.randint(1, digits)\n",
    "    noOfBlanks = digits - r\n",
    "    images, labels = mnist.test.next_batch(digits-noOfBlanks)\n",
    "    result_image = concat_images(images)\n",
    "    result_image = (misc.imresize(result_image, (hight, width)).astype(float) - pixel_depth / 2) / pixel_depth\n",
    "    result_label = np.concatenate((labels, np.zeros((labels.shape[0], 1))), axis = 1)\n",
    "    result_label = result_label.flatten()\n",
    "    for _ in range(noOfBlanks):\n",
    "        result_label = np.concatenate((blank_label, result_label), axis = 0)\n",
    "    return result_image, result_label\n",
    "\n",
    "def gen_test_examples(size):\n",
    "    img = np.ndarray(shape=(size, hight, width))\n",
    "    lbl = np.ndarray(shape=(size, 11*digits))\n",
    "    for i in range(size):\n",
    "        img[i], lbl[i] = gen_test_example()\n",
    "    return img, lbl\n"
   ]
  },
  {
   "cell_type": "code",
   "execution_count": 6,
   "metadata": {
    "collapsed": false
   },
   "outputs": [
    {
     "name": "stdout",
     "output_type": "stream",
     "text": [
      "-0.339133153261\n"
     ]
    },
    {
     "data": {
      "image/png": "[encoded data removed]",
      "text/plain": [
       "<matplotlib.figure.Figure at 0x7f22915c2978>"
      ]
     },
     "metadata": {},
     "output_type": "display_data"
    },
    {
     "name": "stdout",
     "output_type": "stream",
     "text": [
      "[10 10 10 10  0]\n"
     ]
    }
   ],
   "source": [
    "images, labels = gen_train_examples(1)\n",
    "print (np.mean(images[0]))\n",
    "plt.imshow(images[0], interpolation='nearest')\n",
    "plt.show()\n",
    "print (np.argmax(np.reshape(labels[0], (digits, 11)), 1))"
   ]
  },
  {
   "cell_type": "code",
   "execution_count": 7,
   "metadata": {
    "collapsed": true
   },
   "outputs": [],
   "source": [
    "def weight_variable(shape):\n",
    "  initial = tf.truncated_normal(shape, stddev=0.1)\n",
    "  return tf.Variable(initial)\n",
    "\n",
    "def bias_variable(shape):\n",
    "  initial = tf.constant(0.1, shape=shape)\n",
    "  return tf.Variable(initial)\n",
    "\n",
    "def conv2d(x, W):\n",
    "  return tf.nn.conv2d(x, W, strides=[1, 1, 1, 1], padding='SAME')\n",
    "\n",
    "def max_pool_2x2(x):\n",
    "  return tf.nn.max_pool(x, ksize=[1, 2, 2, 1],\n",
    "                        strides=[1, 2, 2, 1], padding='SAME')"
   ]
  },
  {
   "cell_type": "code",
   "execution_count": 8,
   "metadata": {
    "collapsed": false
   },
   "outputs": [],
   "source": [
    "from __future__ import absolute_import\n",
    "from __future__ import division\n",
    "from __future__ import print_function\n",
    "\n",
    "import argparse\n",
    "\n",
    "FLAGS = None\n",
    "\n",
    "learning_rate = tf.placeholder(tf.float32, shape=[])\n",
    "\n",
    "# Create the model\n",
    "x = tf.placeholder(tf.float32, [None, hight, width]) \n",
    "x_image = tf.reshape(x, [-1, hight, width, 1])\n",
    "\n",
    "keep_prob = tf.placeholder(tf.float32)\n",
    "\n",
    "## First Convolutional Layer\n",
    "W_conv1 = weight_variable([5, 5, 1, 48])\n",
    "b_conv1 = bias_variable([48])\n",
    "  \n",
    "h_conv1 = tf.nn.relu(conv2d(x_image, W_conv1) + b_conv1)\n",
    "h_pool1 = max_pool_2x2(h_conv1)\n",
    "h_lrn1 = tf.nn.lrn(h_pool1)\n",
    "  \n",
    "## Second Convolutional Layer\n",
    "W_conv2 = weight_variable([5, 5, 48, 128])\n",
    "b_conv2 = bias_variable([128])\n",
    "\n",
    "h_conv2 = tf.nn.relu(conv2d(h_lrn1, W_conv2) + b_conv2)\n",
    "h_pool2 = max_pool_2x2(h_conv2)\n",
    "h_lrn2 = tf.nn.lrn(h_pool2)\n",
    "\n",
    "## Third Convolutional Layer\n",
    "W_conv3 = weight_variable([5, 5, 128, 192])\n",
    "b_conv3 = bias_variable([192])\n",
    "\n",
    "h_conv3 = tf.nn.relu(conv2d(h_lrn2, W_conv3) + b_conv3)\n",
    "h_lrn3 = tf.nn.lrn(h_conv3)\n",
    "\n",
    "## Forth Convolutional Layer\n",
    "W_conv4 = weight_variable([3, 3, 192, 192])\n",
    "b_conv4 = bias_variable([192])\n",
    "\n",
    "h_conv4 = tf.nn.relu(conv2d(h_lrn3, W_conv4) + b_conv4)\n",
    "h_lrn4 = tf.nn.lrn(h_conv4)\n",
    "\n",
    "## Densely Connected Layer 1\n",
    "W_fc1 = weight_variable([hight * width * 12, 2048])\n",
    "b_fc1 = bias_variable([2048])\n",
    "\n",
    "h_pool2_flat = tf.reshape(h_lrn4, [-1, hight * width * 12])\n",
    "h_fc1 = tf.nn.relu(tf.matmul(h_pool2_flat, W_fc1) + b_fc1)\n",
    "\n",
    "## Densely Connected Layer 2\n",
    "W_fc2 = weight_variable([2048, 2048])\n",
    "b_fc2 = bias_variable([2048])\n",
    "\n",
    "h_fc2 = tf.nn.relu(tf.matmul(h_fc1, W_fc2) + b_fc2)\n",
    "h_fc2_drop = tf.nn.dropout(h_fc2, keep_prob)\n",
    "\n",
    "## Readout Layer\n",
    "W_fc3 = weight_variable([2048, 11*digits])\n",
    "b_fc3 = bias_variable([11*digits])\n",
    "\n",
    "y_conv = tf.matmul(h_fc2_drop, W_fc3) + b_fc3\n",
    "y_conv_r = tf.reshape(y_conv, [-1, digits, 11])\n",
    "\n",
    "y = tf.placeholder(tf.float32, [None, 11*digits])\n",
    "y_r = tf.reshape(y, [-1, digits, 11])\n",
    "\n",
    "cross_entropy = tf.reduce_mean(  tf.nn.softmax_cross_entropy_with_logits(y_conv_r[0], y_r[0]) \n",
    "                               + tf.nn.softmax_cross_entropy_with_logits(y_conv_r[1], y_r[1])\n",
    "                               + tf.nn.softmax_cross_entropy_with_logits(y_conv_r[2], y_r[2])\n",
    "                               + tf.nn.softmax_cross_entropy_with_logits(y_conv_r[3], y_r[3])\n",
    "                               + tf.nn.softmax_cross_entropy_with_logits(y_conv_r[4], y_r[4]))\n",
    "\n",
    "train_step = tf.train.AdamOptimizer(learning_rate=learning_rate).minimize(cross_entropy)\n",
    "\n",
    "accuracy_list = list()\n",
    "loss_list = list()\n",
    "\n",
    "correct_prediction = tf.equal(tf.argmax(y_conv_r, 2), tf.argmax(y_r, 2))\n",
    "# accuracy = tf.reduce_mean(tf.cast(correct_prediction, tf.float32))\n",
    "accuracy = tf.reduce_mean(tf.reduce_min(tf.cast(correct_prediction, tf.float32), 1))\n",
    "saver = tf.train.Saver()"
   ]
  },
  {
   "cell_type": "code",
   "execution_count": 9,
   "metadata": {
    "collapsed": false
   },
   "outputs": [
    {
     "name": "stdout",
     "output_type": "stream",
     "text": [
      "step 0, training accuracy 0, loss 304.527\n",
      "step 100, training accuracy 0, loss 14.3457\n",
      "step 200, training accuracy 0, loss 8.63909\n",
      "step 300, training accuracy 0.04, loss 7.97341\n",
      "step 400, training accuracy 0.048, loss 6.58384\n",
      "step 500, training accuracy 0.086, loss 9.74597\n",
      "step 600, training accuracy 0.094, loss 9.75043\n",
      "step 700, training accuracy 0.074, loss 5.33754\n",
      "step 800, training accuracy 0.094, loss 3.53586\n",
      "step 900, training accuracy 0.128, loss 6.83696\n"
     ]
    },
    {
     "ename": "KeyboardInterrupt",
     "evalue": "",
     "output_type": "error",
     "traceback": [
      "\u001b[0;31m---------------------------------------------------------------------------\u001b[0m",
      "\u001b[0;31mKeyboardInterrupt\u001b[0m                         Traceback (most recent call last)",
      "\u001b[0;32m<ipython-input-9-89d54ace44e1>\u001b[0m in \u001b[0;36m<module>\u001b[0;34m()\u001b[0m\n\u001b[1;32m      8\u001b[0m   \u001b[0;32mif\u001b[0m \u001b[0mi\u001b[0m \u001b[0;34m>=\u001b[0m \u001b[0;36m4000\u001b[0m\u001b[0;34m:\u001b[0m\u001b[0;34m\u001b[0m\u001b[0m\n\u001b[1;32m      9\u001b[0m     \u001b[0mlr\u001b[0m \u001b[0;34m=\u001b[0m \u001b[0;36m0.0002\u001b[0m\u001b[0;34m\u001b[0m\u001b[0m\n\u001b[0;32m---> 10\u001b[0;31m   \u001b[0mloss\u001b[0m \u001b[0;34m=\u001b[0m \u001b[0mtrain_step\u001b[0m\u001b[0;34m.\u001b[0m\u001b[0mrun\u001b[0m\u001b[0;34m(\u001b[0m\u001b[0mfeed_dict\u001b[0m\u001b[0;34m=\u001b[0m\u001b[0;34m{\u001b[0m\u001b[0mx\u001b[0m\u001b[0;34m:\u001b[0m \u001b[0mbatch_images\u001b[0m\u001b[0;34m,\u001b[0m \u001b[0my\u001b[0m\u001b[0;34m:\u001b[0m \u001b[0mbatch_labels\u001b[0m\u001b[0;34m,\u001b[0m \u001b[0mkeep_prob\u001b[0m\u001b[0;34m:\u001b[0m \u001b[0;36m1.0\u001b[0m\u001b[0;34m,\u001b[0m \u001b[0mlearning_rate\u001b[0m\u001b[0;34m:\u001b[0m \u001b[0mlr\u001b[0m\u001b[0;34m}\u001b[0m\u001b[0;34m)\u001b[0m\u001b[0;34m\u001b[0m\u001b[0m\n\u001b[0m\u001b[1;32m     11\u001b[0m   \u001b[0;32mif\u001b[0m \u001b[0mi\u001b[0m\u001b[0;34m%\u001b[0m\u001b[0mstep\u001b[0m \u001b[0;34m==\u001b[0m \u001b[0;36m0\u001b[0m\u001b[0;34m:\u001b[0m\u001b[0;34m\u001b[0m\u001b[0m\n\u001b[1;32m     12\u001b[0m     \u001b[0mbatch_images\u001b[0m\u001b[0;34m,\u001b[0m \u001b[0mbatch_labels\u001b[0m \u001b[0;34m=\u001b[0m \u001b[0mgen_train_examples\u001b[0m\u001b[0;34m(\u001b[0m\u001b[0;36m500\u001b[0m\u001b[0;34m)\u001b[0m\u001b[0;34m\u001b[0m\u001b[0m\n",
      "\u001b[0;32m/usr/local/lib/python3.4/dist-packages/tensorflow/python/framework/ops.py\u001b[0m in \u001b[0;36mrun\u001b[0;34m(self, feed_dict, session)\u001b[0m\n\u001b[1;32m   1617\u001b[0m         \u001b[0mnone\u001b[0m\u001b[0;34m,\u001b[0m \u001b[0mthe\u001b[0m \u001b[0mdefault\u001b[0m \u001b[0msession\u001b[0m \u001b[0mwill\u001b[0m \u001b[0mbe\u001b[0m \u001b[0mused\u001b[0m\u001b[0;34m.\u001b[0m\u001b[0;34m\u001b[0m\u001b[0m\n\u001b[1;32m   1618\u001b[0m     \"\"\"\n\u001b[0;32m-> 1619\u001b[0;31m     \u001b[0m_run_using_default_session\u001b[0m\u001b[0;34m(\u001b[0m\u001b[0mself\u001b[0m\u001b[0;34m,\u001b[0m \u001b[0mfeed_dict\u001b[0m\u001b[0;34m,\u001b[0m \u001b[0mself\u001b[0m\u001b[0;34m.\u001b[0m\u001b[0mgraph\u001b[0m\u001b[0;34m,\u001b[0m \u001b[0msession\u001b[0m\u001b[0;34m)\u001b[0m\u001b[0;34m\u001b[0m\u001b[0m\n\u001b[0m\u001b[1;32m   1620\u001b[0m \u001b[0;34m\u001b[0m\u001b[0m\n\u001b[1;32m   1621\u001b[0m \u001b[0;34m\u001b[0m\u001b[0m\n",
      "\u001b[0;32m/usr/local/lib/python3.4/dist-packages/tensorflow/python/framework/ops.py\u001b[0m in \u001b[0;36m_run_using_default_session\u001b[0;34m(operation, feed_dict, graph, session)\u001b[0m\n\u001b[1;32m   3794\u001b[0m                        \u001b[0;34m\"the operation's graph is different from the session's \"\u001b[0m\u001b[0;34m\u001b[0m\u001b[0m\n\u001b[1;32m   3795\u001b[0m                        \"graph.\")\n\u001b[0;32m-> 3796\u001b[0;31m   \u001b[0msession\u001b[0m\u001b[0;34m.\u001b[0m\u001b[0mrun\u001b[0m\u001b[0;34m(\u001b[0m\u001b[0moperation\u001b[0m\u001b[0;34m,\u001b[0m \u001b[0mfeed_dict\u001b[0m\u001b[0;34m)\u001b[0m\u001b[0;34m\u001b[0m\u001b[0m\n\u001b[0m\u001b[1;32m   3797\u001b[0m \u001b[0;34m\u001b[0m\u001b[0m\n\u001b[1;32m   3798\u001b[0m \u001b[0;34m\u001b[0m\u001b[0m\n",
      "\u001b[0;32m/usr/local/lib/python3.4/dist-packages/tensorflow/python/client/session.py\u001b[0m in \u001b[0;36mrun\u001b[0;34m(self, fetches, feed_dict, options, run_metadata)\u001b[0m\n\u001b[1;32m    715\u001b[0m     \u001b[0;32mtry\u001b[0m\u001b[0;34m:\u001b[0m\u001b[0;34m\u001b[0m\u001b[0m\n\u001b[1;32m    716\u001b[0m       result = self._run(None, fetches, feed_dict, options_ptr,\n\u001b[0;32m--> 717\u001b[0;31m                          run_metadata_ptr)\n\u001b[0m\u001b[1;32m    718\u001b[0m       \u001b[0;32mif\u001b[0m \u001b[0mrun_metadata\u001b[0m\u001b[0;34m:\u001b[0m\u001b[0;34m\u001b[0m\u001b[0m\n\u001b[1;32m    719\u001b[0m         \u001b[0mproto_data\u001b[0m \u001b[0;34m=\u001b[0m \u001b[0mtf_session\u001b[0m\u001b[0;34m.\u001b[0m\u001b[0mTF_GetBuffer\u001b[0m\u001b[0;34m(\u001b[0m\u001b[0mrun_metadata_ptr\u001b[0m\u001b[0;34m)\u001b[0m\u001b[0;34m\u001b[0m\u001b[0m\n",
      "\u001b[0;32m/usr/local/lib/python3.4/dist-packages/tensorflow/python/client/session.py\u001b[0m in \u001b[0;36m_run\u001b[0;34m(self, handle, fetches, feed_dict, options, run_metadata)\u001b[0m\n\u001b[1;32m    913\u001b[0m     \u001b[0;32mif\u001b[0m \u001b[0mfinal_fetches\u001b[0m \u001b[0;32mor\u001b[0m \u001b[0mfinal_targets\u001b[0m\u001b[0;34m:\u001b[0m\u001b[0;34m\u001b[0m\u001b[0m\n\u001b[1;32m    914\u001b[0m       results = self._do_run(handle, final_targets, final_fetches,\n\u001b[0;32m--> 915\u001b[0;31m                              feed_dict_string, options, run_metadata)\n\u001b[0m\u001b[1;32m    916\u001b[0m     \u001b[0;32melse\u001b[0m\u001b[0;34m:\u001b[0m\u001b[0;34m\u001b[0m\u001b[0m\n\u001b[1;32m    917\u001b[0m       \u001b[0mresults\u001b[0m \u001b[0;34m=\u001b[0m \u001b[0;34m[\u001b[0m\u001b[0;34m]\u001b[0m\u001b[0;34m\u001b[0m\u001b[0m\n",
      "\u001b[0;32m/usr/local/lib/python3.4/dist-packages/tensorflow/python/client/session.py\u001b[0m in \u001b[0;36m_do_run\u001b[0;34m(self, handle, target_list, fetch_list, feed_dict, options, run_metadata)\u001b[0m\n\u001b[1;32m    963\u001b[0m     \u001b[0;32mif\u001b[0m \u001b[0mhandle\u001b[0m \u001b[0;32mis\u001b[0m \u001b[0;32mNone\u001b[0m\u001b[0;34m:\u001b[0m\u001b[0;34m\u001b[0m\u001b[0m\n\u001b[1;32m    964\u001b[0m       return self._do_call(_run_fn, self._session, feed_dict, fetch_list,\n\u001b[0;32m--> 965\u001b[0;31m                            target_list, options, run_metadata)\n\u001b[0m\u001b[1;32m    966\u001b[0m     \u001b[0;32melse\u001b[0m\u001b[0;34m:\u001b[0m\u001b[0;34m\u001b[0m\u001b[0m\n\u001b[1;32m    967\u001b[0m       return self._do_call(_prun_fn, self._session, handle, feed_dict,\n",
      "\u001b[0;32m/usr/local/lib/python3.4/dist-packages/tensorflow/python/client/session.py\u001b[0m in \u001b[0;36m_do_call\u001b[0;34m(self, fn, *args)\u001b[0m\n\u001b[1;32m    970\u001b[0m   \u001b[0;32mdef\u001b[0m \u001b[0m_do_call\u001b[0m\u001b[0;34m(\u001b[0m\u001b[0mself\u001b[0m\u001b[0;34m,\u001b[0m \u001b[0mfn\u001b[0m\u001b[0;34m,\u001b[0m \u001b[0;34m*\u001b[0m\u001b[0margs\u001b[0m\u001b[0;34m)\u001b[0m\u001b[0;34m:\u001b[0m\u001b[0;34m\u001b[0m\u001b[0m\n\u001b[1;32m    971\u001b[0m     \u001b[0;32mtry\u001b[0m\u001b[0;34m:\u001b[0m\u001b[0;34m\u001b[0m\u001b[0m\n\u001b[0;32m--> 972\u001b[0;31m       \u001b[0;32mreturn\u001b[0m \u001b[0mfn\u001b[0m\u001b[0;34m(\u001b[0m\u001b[0;34m*\u001b[0m\u001b[0margs\u001b[0m\u001b[0;34m)\u001b[0m\u001b[0;34m\u001b[0m\u001b[0m\n\u001b[0m\u001b[1;32m    973\u001b[0m     \u001b[0;32mexcept\u001b[0m \u001b[0merrors\u001b[0m\u001b[0;34m.\u001b[0m\u001b[0mOpError\u001b[0m \u001b[0;32mas\u001b[0m \u001b[0me\u001b[0m\u001b[0;34m:\u001b[0m\u001b[0;34m\u001b[0m\u001b[0m\n\u001b[1;32m    974\u001b[0m       \u001b[0mmessage\u001b[0m \u001b[0;34m=\u001b[0m \u001b[0mcompat\u001b[0m\u001b[0;34m.\u001b[0m\u001b[0mas_text\u001b[0m\u001b[0;34m(\u001b[0m\u001b[0me\u001b[0m\u001b[0;34m.\u001b[0m\u001b[0mmessage\u001b[0m\u001b[0;34m)\u001b[0m\u001b[0;34m\u001b[0m\u001b[0m\n",
      "\u001b[0;32m/usr/local/lib/python3.4/dist-packages/tensorflow/python/client/session.py\u001b[0m in \u001b[0;36m_run_fn\u001b[0;34m(session, feed_dict, fetch_list, target_list, options, run_metadata)\u001b[0m\n\u001b[1;32m    952\u001b[0m         return tf_session.TF_Run(session, options,\n\u001b[1;32m    953\u001b[0m                                  \u001b[0mfeed_dict\u001b[0m\u001b[0;34m,\u001b[0m \u001b[0mfetch_list\u001b[0m\u001b[0;34m,\u001b[0m \u001b[0mtarget_list\u001b[0m\u001b[0;34m,\u001b[0m\u001b[0;34m\u001b[0m\u001b[0m\n\u001b[0;32m--> 954\u001b[0;31m                                  status, run_metadata)\n\u001b[0m\u001b[1;32m    955\u001b[0m \u001b[0;34m\u001b[0m\u001b[0m\n\u001b[1;32m    956\u001b[0m     \u001b[0;32mdef\u001b[0m \u001b[0m_prun_fn\u001b[0m\u001b[0;34m(\u001b[0m\u001b[0msession\u001b[0m\u001b[0;34m,\u001b[0m \u001b[0mhandle\u001b[0m\u001b[0;34m,\u001b[0m \u001b[0mfeed_dict\u001b[0m\u001b[0;34m,\u001b[0m \u001b[0mfetch_list\u001b[0m\u001b[0;34m)\u001b[0m\u001b[0;34m:\u001b[0m\u001b[0;34m\u001b[0m\u001b[0m\n",
      "\u001b[0;31mKeyboardInterrupt\u001b[0m: "
     ]
    }
   ],
   "source": [
    "sess = tf.InteractiveSession()\n",
    "sess.run(tf.initialize_all_variables())\n",
    "no_of_steps = 1001\n",
    "step = 100\n",
    "for i in range(no_of_steps):\n",
    "  batch_images, batch_labels = gen_train_examples(50)\n",
    "  lr = 0.0005\n",
    "  if i >= 4000:\n",
    "    lr = 0.0002\n",
    "  loss = train_step.run(feed_dict={x: batch_images, y: batch_labels, keep_prob: 1.0, learning_rate: lr})\n",
    "  if i%step == 0:\n",
    "    batch_images, batch_labels = gen_train_examples(500)\n",
    "    loss, train_accuracy = sess.run([cross_entropy, accuracy], feed_dict={x:batch_images, y: batch_labels, keep_prob: 1.0, learning_rate: lr})\n",
    "#    train_accuracy = accuracy.eval(feed_dict={x:batch_images, y_: batch_labels, keep_prob: 1.0})\n",
    "    accuracy_list.append(train_accuracy)\n",
    "    loss_list.append(loss)\n",
    "    print(\"step %d, training accuracy %g, loss %g\"%(i, train_accuracy, loss))\n",
    "  \n",
    "test_imgs, test_labels = gen_test_examples(2000)\n",
    "print(\"test accuracy %g\"%accuracy.eval(feed_dict={\n",
    "  x: test_imgs, y: test_labels, keep_prob: 1.0}))"
   ]
  },
  {
   "cell_type": "code",
   "execution_count": null,
   "metadata": {
    "collapsed": false
   },
   "outputs": [],
   "source": [
    "import matplotlib.pyplot as plt\n",
    "fix, ax = plt.subplots(nrows=1, ncols=1)\n",
    "ax.plot(range(0, no_of_steps, step), accuracy_list, 'r')\n",
    "plt.show()\n",
    "fix.savefig('synth_lr0001.png')"
   ]
  },
  {
   "cell_type": "code",
   "execution_count": null,
   "metadata": {
    "collapsed": false
   },
   "outputs": [],
   "source": [
    "save_path = saver.save(sess, \"./synth/model_synth.ckpt\")\n",
    "print(\"Model saved in file: %s\" % save_path)"
   ]
  },
  {
   "cell_type": "code",
   "execution_count": null,
   "metadata": {
    "collapsed": false
   },
   "outputs": [],
   "source": [
    "test_imgs, test_labels = gen_test_examples(5000)\n",
    "print(\"test accuracy %g\"%accuracy.eval(feed_dict={\n",
    "  x: test_imgs, y: test_labels, keep_prob: 1.0}))"
   ]
  },
  {
   "cell_type": "code",
   "execution_count": null,
   "metadata": {
    "collapsed": false
   },
   "outputs": [],
   "source": [
    "if False:\n",
    "    sess = tf.InteractiveSession()\n",
    "    saver.restore(sess, \"./synth/model.ckpt\")\n",
    "    print (\"Model restored.\")"
   ]
  },
  {
   "cell_type": "code",
   "execution_count": 30,
   "metadata": {
    "collapsed": false
   },
   "outputs": [
    {
     "data": {
      "image/png": "[encoded data removed]",
      "text/plain": [
       "<matplotlib.figure.Figure at 0x127b0d690>"
      ]
     },
     "metadata": {},
     "output_type": "display_data"
    },
    {
     "name": "stdout",
     "output_type": "stream",
     "text": [
      "[[ 0.07862698  0.07862698  0.07862698  0.07862698  0.07862698  0.07862698\n",
      "   0.07862698  0.07862698  0.07862698  0.07862698  0.21373029]\n",
      " [ 0.07862698  0.07862698  0.07862698  0.07862698  0.07862698  0.07862698\n",
      "   0.07862698  0.07862698  0.07862698  0.07862698  0.21373029]\n",
      " [ 0.07862698  0.07862698  0.07862698  0.21373028  0.07862698  0.07862698\n",
      "   0.07862698  0.07862698  0.07862698  0.07862698  0.07862698]\n",
      " [ 0.07862698  0.07862698  0.07862698  0.07862698  0.07862698  0.21373028\n",
      "   0.07862698  0.07862698  0.07862698  0.07862698  0.07862698]\n",
      " [ 0.07862698  0.07862698  0.07862698  0.07862698  0.07862698  0.07862698\n",
      "   0.07862698  0.21373028  0.07862698  0.07862698  0.07862698]]\n",
      "0.000445995\n",
      "Tensor(\"ArgMax_5:0\", shape=(5,), dtype=int64)\n",
      "[10 10  3  5  7]\n"
     ]
    }
   ],
   "source": [
    "test_imgs, test_labels = gen_train_examples(1)\n",
    "plt.imshow(test_imgs[0], interpolation='nearest')\n",
    "plt.show()\n",
    "\n",
    "loss, train_accuracy, pred = sess.run([cross_entropy, accuracy, y], feed_dict={x:test_imgs, y:test_labels, keep_prob: 1.0, learning_rate: 1.0e-04})\n",
    "# print (pred)\n",
    "pred = tf.reshape(pred, (digits, 11))\n",
    "pred = tf.nn.softmax(pred)\n",
    "aa = pred.eval()\n",
    "print (aa)\n",
    "confidence = reduce(lambda a, b: a*b, [aa[i][a] for i, a in enumerate(np.argmax(aa, 1))])\n",
    "print (confidence)\n",
    "aa = tf.argmax(aa, 1)\n",
    "print (aa)\n",
    "print (np.argmax(tf.reshape(test_labels, (digits, 11)).eval(), 1))"
   ]
  },
  {
   "cell_type": "code",
   "execution_count": null,
   "metadata": {
    "collapsed": true
   },
   "outputs": [],
   "source": []
  }
 ],
 "metadata": {
  "anaconda-cloud": {},
  "kernelspec": {
   "display_name": "Python 3",
   "language": "python",
   "name": "python3"
  },
  "language_info": {
   "codemirror_mode": {
    "name": "ipython",
    "version": 3
   },
   "file_extension": ".py",
   "mimetype": "text/x-python",
   "name": "python",
   "nbconvert_exporter": "python",
   "pygments_lexer": "ipython3",
   "version": "3.4.3"
  }
 },
 "nbformat": 4,
 "nbformat_minor": 0
}
